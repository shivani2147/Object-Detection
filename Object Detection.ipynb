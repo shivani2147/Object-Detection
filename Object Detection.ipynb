{
 "cells": [
  {
   "cell_type": "code",
   "execution_count": 1,
   "id": "ec48ea14",
   "metadata": {},
   "outputs": [
    {
     "name": "stderr",
     "output_type": "stream",
     "text": [
      "\n",
      "0: 480x640 1 person, 4 buss, 1 handbag, 2 suitcases, 151.3ms\n",
      "Speed: 5.2ms preprocess, 151.3ms inference, 12.7ms postprocess per image at shape (1, 3, 640, 640)\n"
     ]
    }
   ],
   "source": [
    "from ultralytics import YOLO\n",
    "import cv2\n",
    "import cvzone         #it will detect all the detections\n",
    "import math\n",
    "\n",
    "# Load YOLOv8 model\n",
    "model = YOLO('yolov8l.pt')\n",
    "\n",
    "img = cv2.imread(\"D:\\Images\\largeimg.jpeg\")\n",
    "img = cv2.resize(img, (640, 480))\n",
    "\n",
    "classNames = ['person', 'bicycle', 'car', 'motorbike', 'aeroplane', 'bus', 'train', 'truck', 'boat', 'traffic light', \n",
    "              'fire hydrant', 'stop sign', 'parking meter', 'bench', 'bird', 'cat', 'dog', 'horse', 'sheep', 'cow', 'elephant', \n",
    "              'bear', 'zebra', 'giraffe', 'backpack', 'umbrella', 'handbag', 'tie', 'suitcase', 'frisbee', 'skis', 'snowboard', \n",
    "              'sports ball', 'kite', 'baseball bat', 'baseball glove', 'skateboard', 'surfboard', 'tennis racket', 'bottle', \n",
    "              'wine glass', 'cup', 'fork', 'knife', 'spoon', 'bowl', 'banana', 'apple', 'sandwich', 'orange', 'broccoli', \n",
    "              'carrot', 'hot dog', 'pizza', 'donut', 'cake', 'chair', 'sofa', 'potted plant', 'bed', 'dining table', 'toilet', \n",
    "              'tv monitor', 'laptop', 'mouse', 'remote', 'keyboard', 'cell phone', 'microwave', 'oven', 'toaster', 'sink', \n",
    "              'refrigerator', 'book', 'clock', 'vase', 'scissors', 'teddy bear', 'hair drier', 'toothbrush']\n",
    "\n",
    "results = model(img)\n",
    "\n",
    "for r in results : \n",
    "    boxes = r.boxes \n",
    "    for box in boxes : \n",
    "        x1, y1, x2, y2 = box.xyxy[0]\n",
    "        x1, y1, x2, y2 = int(x1), int(y1), int(x2), int(y2)\n",
    "        conf = math.ceil((box.conf[0] * 100)) / 100\n",
    "        cls = int(box.cls[0])\n",
    "        \n",
    "        cv2.rectangle(img, (x1, y1), (x2, y2), (0, 255, 0), 2)\n",
    "        cvzone.putTextRect(img, f\"{classNames[cls]} {conf}\", (max(0, x1), max(30, y1)), scale = 0.9, \n",
    "                    colorR = (255, 100, 50), thickness = 1, offset = 5)\n",
    "    \n",
    "        \n",
    "cv2.imshow(\"Predicted_Image\", img)\n",
    "cv2.waitKey(0)\n",
    "cv2.destroyAllWindows()\n",
    "\n",
    "# Save the image\n",
    "cv2.imwrite(\"Predicted_Image.jpg\", img)"
   ]
  },
  {
   "cell_type": "code",
   "execution_count": null,
   "id": "99d0cb7b",
   "metadata": {},
   "outputs": [],
   "source": []
  }
 ],
 "metadata": {
  "kernelspec": {
   "display_name": "YOLO",
   "language": "python",
   "name": "yolo"
  },
  "language_info": {
   "codemirror_mode": {
    "name": "ipython",
    "version": 3
   },
   "file_extension": ".py",
   "mimetype": "text/x-python",
   "name": "python",
   "nbconvert_exporter": "python",
   "pygments_lexer": "ipython3",
   "version": "3.11.2"
  }
 },
 "nbformat": 4,
 "nbformat_minor": 5
}
